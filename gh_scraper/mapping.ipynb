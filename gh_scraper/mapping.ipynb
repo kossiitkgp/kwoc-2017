{
 "cells": [
  {
   "cell_type": "code",
   "execution_count": 5,
   "metadata": {
    "collapsed": true
   },
   "outputs": [],
   "source": [
    "import pandas as pd\n",
    "import json"
   ]
  },
  {
   "cell_type": "code",
   "execution_count": 3,
   "metadata": {
    "collapsed": true
   },
   "outputs": [],
   "source": [
    "pro = pd.read_csv('projects.csv')"
   ]
  },
  {
   "cell_type": "code",
   "execution_count": 33,
   "metadata": {
    "collapsed": true
   },
   "outputs": [],
   "source": [
    "mentors = []\n",
    "\n",
    "pair = []\n",
    "\n",
    "projects = []"
   ]
  },
  {
   "cell_type": "code",
   "execution_count": 27,
   "metadata": {
    "collapsed": true
   },
   "outputs": [],
   "source": [
    "for i in pro['project']:\n",
    "    projects.append(i)"
   ]
  },
  {
   "cell_type": "code",
   "execution_count": 34,
   "metadata": {
    "collapsed": true
   },
   "outputs": [],
   "source": [
    "for i in pro['name']:\n",
    "    t = []\n",
    "    for j in i.split(\"|\"):\n",
    "        t.append(j.strip())\n",
    "    mentors.append(t)\n",
    "    "
   ]
  },
  {
   "cell_type": "code",
   "execution_count": 36,
   "metadata": {
    "collapsed": false
   },
   "outputs": [
    {
     "data": {
      "text/plain": [
       "108"
      ]
     },
     "execution_count": 36,
     "metadata": {},
     "output_type": "execute_result"
    }
   ],
   "source": [
    "len(mentors)"
   ]
  },
  {
   "cell_type": "code",
   "execution_count": 44,
   "metadata": {
    "collapsed": true
   },
   "outputs": [
    {
     "name": "stdout",
     "output_type": "stream",
     "text": [
      "2048_ | (Pratik Tibrewal)\n",
      "ACAD-SEARCH | (Vipul Ujawane)\n",
      "AIRHOCKEY | (Aniq Ur Rahman)\n",
      "ALCHEM DESKTOP | (Mayank Gupta)\n",
      "ALCHEM DESKTOP | (Ankit Kumar)\n",
      "ALCHEM DESKTOP | (Vipul Goyal)\n",
      "ANN | (Sayan Sinha)\n",
      "ANNA ASSISTANT | (Gautham Santhosh)\n",
      "ARCHDRAW | (Ashris Choudhury)\n",
      "AWESOME SOCIAL SCIENCE | (Siddharth Kannan)\n",
      "B.E.N.J.I. | (Dhruv Apte)\n",
      "BOOKS PIVOT | (Gaurav Bordoloi)\n",
      "BREAKOUT | (Raghav Jajodia)\n",
      "C-3PO | (Naresh)\n",
      "C0DERUNR | (Kaustubh Hiware)\n",
      "CABAL | (Pranit Bauva)\n",
      "CASCADE SEGNET | (Sayan Sinha)\n",
      "CHITRAGUPTA | (Rameshwar Bhaskaran)\n",
      "CLI CUBE TIMER | (Siddharth Kannan)\n",
      "CNN-FROM-SCRATCH | (Zishan Sami)\n",
      "COALA | (Yash Nisar)\n",
      "COALA | (Rishav Kumar)\n",
      "COALA | (Rahul Jha)\n",
      "CODE SLEEP PYTHON | (Prateek Chanda)\n",
      "CODE-PAD | (Ankit Jain)\n",
      "COLORLS | (Athitya Kumar)\n",
      "CRICKFEV | (shubham maddhashiya)\n",
      "CURIOSITY | (Mubaris NK)\n",
      "DASHBOARD | (Naresh)\n",
      "DATA | (Athitya Kumar)\n",
      "DEEPCHEM | (Avijit Ghosh)\n",
      "DIGINEHRU | (Sandeep Sharma)\n",
      "FB-SPIDER | (Parth Verma)\n",
      "GAME REWARDS SYSTEM | (Amrit Choudhary)\n",
      "GENERATIVE ADVERSARIAL NETWORKS(GANS) | (Sangeet Kumar Mishra)\n",
      "GIT | (Pranit Bauva)\n",
      "GITPUB | (Gaurav Sahu)\n",
      "GMAIL-ATTACHMENTS | (Ashish Kumar Gaurav)\n",
      "GNEWSCLIENT | (Nikhil Kumar Singh)\n",
      "GRAPHCLUSTERS | (Dibya Prakash Das)\n",
      "GUI-PATHPLANNERS | (Ashish Kumar Gaurav)\n",
      "GYFT (GET YOUR FREAKING TIMETABLE) | (Nishant Nikhil)\n",
      "HACKATHON | (Nishant Singh Sikarwar)\n",
      "HANGMAN REACT GAME | (Dhiraj Kumar)\n",
      "HOXNOX - PORTFOLIOS MADE EASY | (Anupam Dagar)\n",
      "KGP API | (Naresh)\n",
      "LEXICO | (Kshitij Saraogi)\n",
      "LTERM | (Shubham Rath)\n",
      "MESSENGER BOT | (Rahul Vernwal)\n",
      "METAKGP WIKI: DOCKERIZED FOR FUN | (Siddharth Kannan)\n",
      "MFQP | (Athitya Kumar)\n",
      "ML-STARTER-PACK | (Arindam Biswas)\n",
      "MOBOFF | (Parth Verma)\n",
      "MORSE-TALK | (Arindam Biswas)\n",
      "MOTIVATE | (Mubaris NK)\n",
      "NAARAD | (Sayan Sinha)\n",
      "NETWORKX | (Himanshu Mishra)\n",
      "NETWORKX.RB | (Athitya Kumar)\n",
      "NOTES APP | (Ankita Sahoo)\n",
      "NOTIFYRE | (Kaustubh Hiware)\n",
      "OPENCHAT | (Ankit Jain)\n",
      "OXNARY | (Himanshu Kumar)\n",
      "PACMAN-LVL1 | (Harish Nandan)\n",
      "PASSWORD-STORAGE | (Pritom Mazumdar)\n",
      "PEP8SPEAKS | (Himanshu Mishra)\n",
      "PIZILLA | (Naveen Kumar Sangi)\n",
      "PLAY NEXT | (Nishant Nikhil)\n",
      "PLAYING WITH ALGORITHMS | (Prateek Chanda)\n",
      "PLOTIT | (Deepjyoti Mondal)\n",
      "PONG-USING-RL | (Rahul Vernwal)\n",
      "PROXYMAN | (Himanshu Shekhar)\n",
      "QUANTEDA: QUANTITATIVE ANALYSIS OF TEXTUAL DATA (R PACKAGE) | (Kenneth Benoit)\n",
      "QUICKNOTES | (Dileep Sankhla)\n",
      "REACT GOOGLE MAP | (Ankita Sahoo)\n",
      "READ-IT | (Dibya Prakash Das)\n",
      "REFLEXIO | (Harish Nandan)\n",
      "RELATIVE DATE: REVERSE | (Siddharth Kannan)\n",
      "RRT | (Sayan Sinha)\n",
      "RTUNES | (Raghav Jajodia)\n",
      "SAFEANDROID | (Nirmal Sarswat)\n",
      "SANGITA | (Samriddhi Sinha)\n",
      "SCIRUBY-EXAMPLES | (Dhruv Apte)\n",
      "SCRAPY BENCH SPEEDCENTER | (Parth Verma)\n",
      "SCRAPY-BENCH | (Parth Verma)\n",
      "SECURESNAPS | (Aniq Ur Rahman)\n",
      "SENSENET | (Jason Toy)\n",
      "SHERLOCKED | (Nishant Nikhil)\n",
      "SIGNAL PREDICTION WITH A SEQ2SEQ RNN | (Guillaume Chevalier)\n",
      "SMVDU-ALGOS | (Sushil khanchi)\n",
      "SMVDU-ALGOS | (Shubham Goyal)\n",
      "SNAKE | (Raghav Jajodia)\n",
      "SNAKES | (Sayan Sinha)\n",
      "SOCIAL-MEDIA-REVIEW-PLATFORM | (Ankit Jain)\n",
      "STATISTICAL MODELLING TECHNIQUES | (Rahul Das)\n",
      "STEREO CAMERA CALIBRATION | (Sourish Ghosh)\n",
      "SUNPY | (Nitin Choudhary)\n",
      "SYMPY | (Shivam Vats)\n",
      "TERMI-NALANDA | (Rahul Bothra)\n",
      "TICTACTOE | (CHANDRA PRAKASH MEHER)\n",
      "TIC_TAC_TOE | (Ritesh Kumar Mohapatra)\n",
      "TIMETABLE | (Athitya Kumar)\n",
      "TITANIC SURVIVAL EXPLORATION | (Prateek Chanda)\n",
      "TREND-ANALYZER | (Arindam Biswas)\n",
      "TVSERIES | (Athitya Kumar)\n",
      "TYPOMETER | (Himanshu Kumar)\n",
      "URBAN ROBOT | (Mubaris NK)\n",
      "URL-SHORTENER | (Vivek Modi)\n",
      "VOICE CALCULATOR | (Mayank Jindal)\n",
      "WEBDB | (Nirmal Sarswat)\n",
      "WEED | (Apoorva Kumar)\n",
      "WHATS-IN-THE-NEWS-GEEK | (Arindam Biswas)\n",
      "YOUTUBE DATA COLLECTOR | (Parth Verma)\n",
      "YOUTUBE FAST PLAYLIST | (Meet Udeshi)\n"
     ]
    }
   ],
   "source": [
    "for i in range(len(mentors)):\n",
    "    for j in mentors[i]:\n",
    "        pair.append(projects[i] + \" | (\" + j + \")\")\n",
    "    \n",
    "    "
   ]
  },
  {
   "cell_type": "code",
   "execution_count": 49,
   "metadata": {
    "collapsed": false
   },
   "outputs": [],
   "source": [
    "y = json.dumps(pair)"
   ]
  },
  {
   "cell_type": "code",
   "execution_count": 50,
   "metadata": {
    "collapsed": false
   },
   "outputs": [
    {
     "data": {
      "text/plain": [
       "'[\"2048_ | (Pratik Tibrewal)\", \"ACAD-SEARCH | (Vipul Ujawane)\", \"AIRHOCKEY | (Aniq Ur Rahman)\", \"ALCHEM DESKTOP | (Mayank Gupta)\", \"ALCHEM DESKTOP | (Ankit Kumar)\", \"ALCHEM DESKTOP | (Vipul Goyal)\", \"ANN | (Sayan Sinha)\", \"ANNA ASSISTANT | (Gautham Santhosh)\", \"ARCHDRAW | (Ashris Choudhury)\", \"AWESOME SOCIAL SCIENCE | (Siddharth Kannan)\", \"B.E.N.J.I. | (Dhruv Apte)\", \"BOOKS PIVOT | (Gaurav Bordoloi)\", \"BREAKOUT | (Raghav Jajodia)\", \"C-3PO | (Naresh)\", \"C0DERUNR | (Kaustubh Hiware)\", \"CABAL | (Pranit Bauva)\", \"CASCADE SEGNET | (Sayan Sinha)\", \"CHITRAGUPTA | (Rameshwar Bhaskaran)\", \"CLI CUBE TIMER | (Siddharth Kannan)\", \"CNN-FROM-SCRATCH | (Zishan Sami)\", \"COALA | (Yash Nisar)\", \"COALA | (Rishav Kumar)\", \"COALA | (Rahul Jha)\", \"CODE SLEEP PYTHON | (Prateek Chanda)\", \"CODE-PAD | (Ankit Jain)\", \"COLORLS | (Athitya Kumar)\", \"CRICKFEV | (shubham maddhashiya)\", \"CURIOSITY | (Mubaris NK)\", \"DASHBOARD | (Naresh)\", \"DATA | (Athitya Kumar)\", \"DEEPCHEM | (Avijit Ghosh)\", \"DIGINEHRU | (Sandeep Sharma)\", \"FB-SPIDER | (Parth Verma)\", \"GAME REWARDS SYSTEM | (Amrit Choudhary)\", \"GENERATIVE ADVERSARIAL NETWORKS(GANS) | (Sangeet Kumar Mishra)\", \"GIT | (Pranit Bauva)\", \"GITPUB | (Gaurav Sahu)\", \"GMAIL-ATTACHMENTS | (Ashish Kumar Gaurav)\", \"GNEWSCLIENT | (Nikhil Kumar Singh)\", \"GRAPHCLUSTERS | (Dibya Prakash Das)\", \"GUI-PATHPLANNERS | (Ashish Kumar Gaurav)\", \"GYFT (GET YOUR FREAKING TIMETABLE) | (Nishant Nikhil)\", \"HACKATHON | (Nishant Singh Sikarwar)\", \"HANGMAN REACT GAME | (Dhiraj Kumar)\", \"HOXNOX - PORTFOLIOS MADE EASY | (Anupam Dagar)\", \"KGP API | (Naresh)\", \"LEXICO | (Kshitij Saraogi)\", \"LTERM | (Shubham Rath)\", \"MESSENGER BOT | (Rahul Vernwal)\", \"METAKGP WIKI: DOCKERIZED FOR FUN | (Siddharth Kannan)\", \"MFQP | (Athitya Kumar)\", \"ML-STARTER-PACK | (Arindam Biswas)\", \"MOBOFF | (Parth Verma)\", \"MORSE-TALK | (Arindam Biswas)\", \"MOTIVATE | (Mubaris NK)\", \"NAARAD | (Sayan Sinha)\", \"NETWORKX | (Himanshu Mishra)\", \"NETWORKX.RB | (Athitya Kumar)\", \"NOTES APP | (Ankita Sahoo)\", \"NOTIFYRE | (Kaustubh Hiware)\", \"OPENCHAT | (Ankit Jain)\", \"OXNARY | (Himanshu Kumar)\", \"PACMAN-LVL1 | (Harish Nandan)\", \"PASSWORD-STORAGE | (Pritom Mazumdar)\", \"PEP8SPEAKS | (Himanshu Mishra)\", \"PIZILLA | (Naveen Kumar Sangi)\", \"PLAY NEXT | (Nishant Nikhil)\", \"PLAYING WITH ALGORITHMS | (Prateek Chanda)\", \"PLOTIT | (Deepjyoti Mondal)\", \"PONG-USING-RL | (Rahul Vernwal)\", \"PROXYMAN | (Himanshu Shekhar)\", \"QUANTEDA: QUANTITATIVE ANALYSIS OF TEXTUAL DATA (R PACKAGE) | (Kenneth Benoit)\", \"QUICKNOTES | (Dileep Sankhla)\", \"REACT GOOGLE MAP | (Ankita Sahoo)\", \"READ-IT | (Dibya Prakash Das)\", \"REFLEXIO | (Harish Nandan)\", \"RELATIVE DATE: REVERSE | (Siddharth Kannan)\", \"RRT | (Sayan Sinha)\", \"RTUNES | (Raghav Jajodia)\", \"SAFEANDROID | (Nirmal Sarswat)\", \"SANGITA | (Samriddhi Sinha)\", \"SCIRUBY-EXAMPLES | (Dhruv Apte)\", \"SCRAPY BENCH SPEEDCENTER | (Parth Verma)\", \"SCRAPY-BENCH | (Parth Verma)\", \"SECURESNAPS | (Aniq Ur Rahman)\", \"SENSENET | (Jason Toy)\", \"SHERLOCKED | (Nishant Nikhil)\", \"SIGNAL PREDICTION WITH A SEQ2SEQ RNN | (Guillaume Chevalier)\", \"SMVDU-ALGOS | (Sushil khanchi)\", \"SMVDU-ALGOS | (Shubham Goyal)\", \"SNAKE | (Raghav Jajodia)\", \"SNAKES | (Sayan Sinha)\", \"SOCIAL-MEDIA-REVIEW-PLATFORM | (Ankit Jain)\", \"STATISTICAL MODELLING TECHNIQUES | (Rahul Das)\", \"STEREO CAMERA CALIBRATION | (Sourish Ghosh)\", \"SUNPY | (Nitin Choudhary)\", \"SYMPY | (Shivam Vats)\", \"TERMI-NALANDA | (Rahul Bothra)\", \"TICTACTOE | (CHANDRA PRAKASH MEHER)\", \"TIC_TAC_TOE | (Ritesh Kumar Mohapatra)\", \"TIMETABLE | (Athitya Kumar)\", \"TITANIC SURVIVAL EXPLORATION | (Prateek Chanda)\", \"TREND-ANALYZER | (Arindam Biswas)\", \"TVSERIES | (Athitya Kumar)\", \"TYPOMETER | (Himanshu Kumar)\", \"URBAN ROBOT | (Mubaris NK)\", \"URL-SHORTENER | (Vivek Modi)\", \"VOICE CALCULATOR | (Mayank Jindal)\", \"WEBDB | (Nirmal Sarswat)\", \"WEED | (Apoorva Kumar)\", \"WHATS-IN-THE-NEWS-GEEK | (Arindam Biswas)\", \"YOUTUBE DATA COLLECTOR | (Parth Verma)\", \"YOUTUBE FAST PLAYLIST | (Meet Udeshi)\"]'"
      ]
     },
     "execution_count": 50,
     "metadata": {},
     "output_type": "execute_result"
    }
   ],
   "source": [
    "y"
   ]
  },
  {
   "cell_type": "code",
   "execution_count": 51,
   "metadata": {
    "collapsed": true
   },
   "outputs": [],
   "source": [
    "with open(\"mappings.json\",'w') as f:\n",
    "    f.write(y)"
   ]
  },
  {
   "cell_type": "code",
   "execution_count": null,
   "metadata": {
    "collapsed": true
   },
   "outputs": [],
   "source": []
  }
 ],
 "metadata": {
  "kernelspec": {
   "display_name": "Python 3",
   "language": "python",
   "name": "python3"
  },
  "language_info": {
   "codemirror_mode": {
    "name": "ipython",
    "version": 3
   },
   "file_extension": ".py",
   "mimetype": "text/x-python",
   "name": "python",
   "nbconvert_exporter": "python",
   "pygments_lexer": "ipython3",
   "version": "3.5.2"
  }
 },
 "nbformat": 4,
 "nbformat_minor": 2
}
